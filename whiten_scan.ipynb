{
 "cells": [
  {
   "cell_type": "code",
   "execution_count": 1,
   "id": "60f3c48d",
   "metadata": {},
   "outputs": [
    {
     "data": {
      "text/plain": [
       "'BSc_Academic_Transcripts_Brightened.pdf'"
      ]
     },
     "execution_count": 1,
     "metadata": {},
     "output_type": "execute_result"
    }
   ],
   "source": [
    "import fitz  # PyMuPDF\n",
    "from PIL import Image, ImageEnhance\n",
    "import io\n",
    "\n",
    "# Open the PDF file\n",
    "doc = fitz.open(\"BSc Academic Transcripts.pdf\")\n",
    "\n",
    "# Prepare a list to store brightened images\n",
    "brightened_images = []\n",
    "\n",
    "# Process each page\n",
    "for page in doc:\n",
    "    pix = page.get_pixmap(dpi=150)\n",
    "    img = Image.open(io.BytesIO(pix.tobytes()))\n",
    "    \n",
    "    # Enhance brightness and contrast\n",
    "    enhancer_brightness = ImageEnhance.Brightness(img)\n",
    "    bright_img = enhancer_brightness.enhance(1.3)  # Increase brightness by 30%\n",
    "    \n",
    "    enhancer_contrast = ImageEnhance.Contrast(bright_img)\n",
    "    bright_contrast_img = enhancer_contrast.enhance(1.3)  # Increase contrast by 20%\n",
    "    \n",
    "    brightened_images.append(bright_contrast_img)\n",
    "\n",
    "# Save as a new PDF\n",
    "output_pdf_path = \"BSc_Academic_Transcripts_Brightened.pdf\"\n",
    "brightened_images[0].save(output_pdf_path, save_all=True, append_images=brightened_images[1:])\n",
    "\n",
    "output_pdf_path\n"
   ]
  }
 ],
 "metadata": {
  "kernelspec": {
   "display_name": "Python 3 (ipykernel)",
   "language": "python",
   "name": "python3"
  }
 },
 "nbformat": 4,
 "nbformat_minor": 5
}
