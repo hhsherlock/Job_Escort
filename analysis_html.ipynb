{
 "cells": [
  {
   "cell_type": "code",
   "execution_count": 48,
   "id": "5e5da3e7",
   "metadata": {},
   "outputs": [],
   "source": [
    "#!/usr/bin/env python3\n",
    "# -*- coding: utf-8 -*-\n",
    "\"\"\"\n",
    "    Created on Tue Jul 23 2024\n",
    "    \n",
    "    @author: Yaning\n",
    "\"\"\"\n",
    "\n",
    "from bs4 import BeautifulSoup\n",
    "import csv"
   ]
  },
  {
   "cell_type": "code",
   "execution_count": 31,
   "id": "7edb563d",
   "metadata": {},
   "outputs": [],
   "source": [
    "# Load the HTML file\n",
    "with open(\"htmls/euraxess_AI_for_Neural_Signal_Processing_page1.html\", \"r\", encoding=\"utf-8\") as file:\n",
    "    html_content = file.read()\n",
    "\n",
    "# Parse with BeautifulSoup\n",
    "soup = BeautifulSoup(html_content, \"lxml\")"
   ]
  },
  {
   "cell_type": "code",
   "execution_count": 32,
   "id": "f45bffd6",
   "metadata": {},
   "outputs": [],
   "source": [
    "ul = soup.find(\"ul\", class_=\"unformatted-list\")"
   ]
  },
  {
   "cell_type": "code",
   "execution_count": 33,
   "id": "985e71d7",
   "metadata": {},
   "outputs": [],
   "source": [
    "job_list = ul.find_all(\"li\", recursive=False)"
   ]
  },
  {
   "cell_type": "code",
   "execution_count": 34,
   "id": "bafcc85f",
   "metadata": {},
   "outputs": [],
   "source": [
    "test = job_list[0]"
   ]
  },
  {
   "cell_type": "code",
   "execution_count": 43,
   "id": "3e2e1815",
   "metadata": {},
   "outputs": [
    {
     "data": {
      "text/plain": [
       "<div class=\"ecl-content-block__description\"><p>LISN, parc de GPU, labIA, Jean-Zay Context: As part of the ANR HUMAAINE: HUMAN-MACHINE AFFECTIVE INTERACTION &amp; ETHICS chair at LISN-CNRS, we have been developing research on oral interaction with social robots. 5 theses have already been defended on emotion detection systems (Feng, 2025; Deschamps...</p></div>"
      ]
     },
     "execution_count": 43,
     "metadata": {},
     "output_type": "execute_result"
    }
   ],
   "source": [
    "test.find(\"div\", class_=\"ecl-content-block__description\")"
   ]
  },
  {
   "cell_type": "code",
   "execution_count": 26,
   "id": "57145a0e",
   "metadata": {},
   "outputs": [],
   "source": [
    "test"
   ]
  },
  {
   "cell_type": "code",
   "execution_count": 51,
   "id": "1e297342",
   "metadata": {},
   "outputs": [],
   "source": [
    "jobs = []\n",
    "for job in job_list:\n",
    "    location = job.find(\"span\", class_=\"ecl-label ecl-label--highlight\").get_text(strip=True)\n",
    "    temp = job.find_all(\"li\", class_=\"ecl-content-block__primary-meta-item\")\n",
    "    institute = temp[0].get_text(strip=True)\n",
    "    posted_on = temp[1].get_text(strip=True).replace(\"Posted on: \", \"\")\n",
    "    ddl = job.find(\"time\").get_text(strip=True)\n",
    "    link = job.find(\"h3\", class_=\"ecl-content-block__title\").find(\"a\").get(\"href\")\n",
    "    title = job.find(\"h3\", class_=\"ecl-content-block__title\").get_text(strip=True)\n",
    "    details = job.find(\"div\", class_=\"ecl-content-block__description\").get_text(strip=True)\n",
    "\n",
    "    dict = {\n",
    "        \"title\": title,\n",
    "        \"location\": location,\n",
    "        \"posted_on\": posted_on,\n",
    "        \"deadline\": ddl,\n",
    "        \"details\": details,\n",
    "        \"institute\": institute,\n",
    "        \"link\": link\n",
    "    }\n",
    "\n",
    "    jobs.append(dict)\n",
    "    "
   ]
  },
  {
   "cell_type": "code",
   "execution_count": 52,
   "id": "0db3813b",
   "metadata": {},
   "outputs": [
    {
     "data": {
      "text/plain": [
       "[{'title': 'Emotional Assessment and Adaptation of Voice-Based LLMs in Assistive Robotics for Elderly Care and Ethical Challenges (M/F)',\n",
       "  'location': 'France',\n",
       "  'posted_on': '25 July 2025',\n",
       "  'deadline': '14 Aug 2025 - 23:59 (UTC)',\n",
       "  'details': 'LISN, parc de GPU, labIA, Jean-Zay Context: As part of the ANR HUMAAINE: HUMAN-MACHINE AFFECTIVE INTERACTION & ETHICS chair at LISN-CNRS, we have been developing research on oral interaction with social robots. 5 theses have already been defended on emotion detection systems (Feng, 2025; Deschamps...',\n",
       "  'institute': 'CNRS - National Center for Scientific Research',\n",
       "  'link': '/jobs/364211'},\n",
       " {'title': 'Researcher in experimentation environment FPGA for quantified neural networks',\n",
       "  'location': 'France',\n",
       "  'posted_on': '16 July 2025',\n",
       "  'deadline': '17 Aug 2025 - 20:00 (Europe/Paris)',\n",
       "  'details': 'Current research in neural network efficiency include heterogeneous quantization, custom number representation, sparse data storage, etc. In order to demonstrate efficiency improvements of hardware implementation of neural networks, fully operational FPGA prototyping is necessary toexhibit...',\n",
       "  'institute': 'Grenoble INP - Institute of Engineering',\n",
       "  'link': '/jobs/361700'},\n",
       " {'title': 'PhD Position Low-Power Digital IC Design for ML-based Signal Processing',\n",
       "  'location': 'Netherlands',\n",
       "  'posted_on': '8 July 2025',\n",
       "  'deadline': '10 Aug 2025 - 21:59 (UTC)',\n",
       "  'details': 'Ready to re-imagine how tiny pieces of silicon can run powerful machine-learning algorithms within a few milliwatts?Ready to re-imagine how tiny pieces of silicon can run powerful machine-learning algorithms within a few milliwatts? Join the Lab of Efficient Machine Intelligence led by Dr. Chang Gao...',\n",
       "  'institute': 'Delft University of Technology via AcademicTransfer',\n",
       "  'link': '/jobs/359054'},\n",
       " {'title': 'One or more PhD stipends in Classification and Identification of Underwater Anomalies',\n",
       "  'location': 'Denmark',\n",
       "  'posted_on': '3 July 2025',\n",
       "  'deadline': '29 Jul 2025 - 21:59 (UTC)',\n",
       "  'details': 'At the Faculty of Engineering and Science, AAU Energy offers a PhD stipend position within the general study program. The position is offered in relation to the research group Underwater Technology, and the PhD Students will be positioned in the Esbjerg Energy section.The positions are part of the...',\n",
       "  'institute': 'Aalborg Universitet',\n",
       "  'link': '/jobs/357895'},\n",
       " {'title': 'PhD on Neuromorphic-photonics-assisted front-end for edge computing – SpikeHERO project',\n",
       "  'location': 'Netherlands',\n",
       "  'posted_on': '28 June 2025',\n",
       "  'deadline': '10 Aug 2025 - 21:59 (UTC)',\n",
       "  'details': 'The Photonic Neural Network Lab, together with the High Capacity Optical Transmission Lab’s in the Electro-Optics Communication (ECO) group at Eindhoven University of Technology (TU/e) are recruiting a PhD candidate to research novel neuromorphic-photonics-assisted front-ends for edge computing.The...',\n",
       "  'institute': 'AcademicTransfer',\n",
       "  'link': '/jobs/356496'},\n",
       " {'title': 'Project Worker / Research Assistant, Building AI Models for Adaptive Gas Sensing',\n",
       "  'location': 'Finland',\n",
       "  'posted_on': '27 June 2025',\n",
       "  'deadline': '1 Aug 2025 - 00:00 (UTC)',\n",
       "  'details': 'Aalto University is where science and art meet technology and business. We shape a sustainable future by making research breakthroughs in and across our disciplines, sparking the game changers of tomorrow and creating novel solutions to major global challenges. Our community is made up of 120...',\n",
       "  'institute': 'Aalto University',\n",
       "  'link': '/jobs/356214'},\n",
       " {'title': 'PhD in Efficient hardware implementations of networks with intra-layer heterogeneous quantization - TIMA',\n",
       "  'location': 'France',\n",
       "  'posted_on': '26 June 2025',\n",
       "  'deadline': '18 Aug 2025 - 20:00 (Europe/Paris)',\n",
       "  'details': 'Usual digital neural networks consist of large amounts of matrix-vector of matrix-matrix multiplication operations. Thus, the design of dedicated hardware acceleration circuits for digital neural networks mostly focuses on accelerating these matrix operations. The involved matrices are often...',\n",
       "  'institute': 'Grenoble INP - Institute of Engineering',\n",
       "  'link': '/jobs/355873'},\n",
       " {'title': 'Project Worker / Research Assistant, Building AI Models for Adaptive Gas Sensing',\n",
       "  'location': 'Finland',\n",
       "  'posted_on': '26 June 2025',\n",
       "  'deadline': '1 Aug 2025 - 00:00 (UTC)',\n",
       "  'details': 'Aalto University is where science and art meet technology and business. We shape a sustainable future by making research breakthroughs in and across our disciplines, sparking the game changers of tomorrow and creating novel solutions to major global challenges. Our community is made up of 120...',\n",
       "  'institute': 'Times Higher Education',\n",
       "  'link': '/jobs/355605'},\n",
       " {'title': 'Postdoctoral fellow in Computer Vision and Machine Learning',\n",
       "  'location': 'Sweden',\n",
       "  'posted_on': '25 June 2025',\n",
       "  'deadline': '17 Aug 2025 - 22:00 (UTC)',\n",
       "  'details': 'This multidisciplinary position is part of a WASP NEST (Novelty, Excellence, Synergy, Teams) project focused on advancing generative models and perceptual understanding in computer vision. The position is embedded in a vibrant research environment that includes several PhD students and postdoctoral...',\n",
       "  'institute': 'Talentech',\n",
       "  'link': '/jobs/355045'},\n",
       " {'title': 'Postdoctoral fellowship - Artificial Intelligence and Mobility: Gait Mode Classification via Deep  Learning to Enhance Robotic Assistance and Inclusion of People with Disabilities',\n",
       "  'location': 'France',\n",
       "  'posted_on': '19 June 2025',\n",
       "  'deadline': '15 Sep 2025 - 18:00 (Europe/Paris)',\n",
       "  'details': 'We invite applications for a 24-month postdoctoral research position within the framework of the ERASME program, which supports socially engaged science. The project focuses on improving mobility, autonomy, and rehabilitation outcomes for individuals with motor impairments, particularly post-stroke...',\n",
       "  'institute': 'Université Paris Est Créteil',\n",
       "  'link': '/jobs/354007'}]"
      ]
     },
     "execution_count": 52,
     "metadata": {},
     "output_type": "execute_result"
    }
   ],
   "source": [
    "jobs"
   ]
  },
  {
   "cell_type": "code",
   "execution_count": 49,
   "id": "d00f7a4c",
   "metadata": {},
   "outputs": [
    {
     "name": "stdout",
     "output_type": "stream",
     "text": [
      "Saved 10 jobs to jobs.csv\n"
     ]
    }
   ],
   "source": [
    "# Choose CSV file name\n",
    "csv_filename = \"jobs.csv\"\n",
    "\n",
    "# Open the CSV file for writing\n",
    "with open(csv_filename, mode=\"w\", encoding=\"utf-8\", newline=\"\") as csvfile:\n",
    "    # Use fieldnames from the first job (keys of the dictionary)\n",
    "    fieldnames = jobs[0].keys()\n",
    "\n",
    "    writer = csv.DictWriter(csvfile, fieldnames=fieldnames)\n",
    "\n",
    "    writer.writeheader()  # Write column headers\n",
    "    writer.writerows(jobs)  # Write each job as a row\n",
    "\n",
    "print(f\"Saved {len(jobs)} jobs to {csv_filename}\")"
   ]
  }
 ],
 "metadata": {
  "kernelspec": {
   "display_name": "Python 3 (ipykernel)",
   "language": "python",
   "name": "python3"
  },
  "language_info": {
   "codemirror_mode": {
    "name": "ipython",
    "version": 3
   },
   "file_extension": ".py",
   "mimetype": "text/x-python",
   "name": "python",
   "nbconvert_exporter": "python",
   "pygments_lexer": "ipython3",
   "version": "3.10.17"
  }
 },
 "nbformat": 4,
 "nbformat_minor": 5
}
