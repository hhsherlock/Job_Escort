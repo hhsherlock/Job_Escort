{
 "cells": [
  {
   "cell_type": "code",
   "execution_count": 1,
   "id": "fc8ae0d2",
   "metadata": {},
   "outputs": [],
   "source": [
    "#!/usr/bin/env python3\n",
    "# -*- coding: utf-8 -*-\n",
    "\"\"\"\n",
    "    Created on Fri Aug 1 2025\n",
    "    \n",
    "    @author: Yaning\n",
    "\"\"\"\n",
    "\n",
    "import csv\n",
    "import pandas as pd\n",
    "from datetime import date"
   ]
  },
  {
   "cell_type": "code",
   "execution_count": 2,
   "id": "c5c6292c",
   "metadata": {},
   "outputs": [
    {
     "data": {
      "text/plain": [
       "'2025_08_01'"
      ]
     },
     "execution_count": 2,
     "metadata": {},
     "output_type": "execute_result"
    }
   ],
   "source": [
    "today = date.today()\n",
    "today.strftime(\"%Y_%m_%d\")"
   ]
  },
  {
   "cell_type": "code",
   "execution_count": 3,
   "id": "98ffdcfa",
   "metadata": {},
   "outputs": [],
   "source": [
    "df = pd.read_csv('euraxess_2025_07_29.csv')\n",
    "array = df.to_numpy()"
   ]
  },
  {
   "cell_type": "code",
   "execution_count": null,
   "id": "855e220d",
   "metadata": {},
   "outputs": [],
   "source": [
    "df"
   ]
  },
  {
   "cell_type": "code",
   "execution_count": 6,
   "id": "04e0c192",
   "metadata": {},
   "outputs": [],
   "source": [
    "elim_df = df.loc[:, ['posted_on', 'link']]"
   ]
  },
  {
   "cell_type": "code",
   "execution_count": null,
   "id": "bb55947a",
   "metadata": {},
   "outputs": [],
   "source": [
    "elim_df.to_csv(f\"elim_{today}.csv\")"
   ]
  }
 ],
 "metadata": {
  "kernelspec": {
   "display_name": "Python 3 (ipykernel)",
   "language": "python",
   "name": "python3"
  },
  "language_info": {
   "codemirror_mode": {
    "name": "ipython",
    "version": 3
   },
   "file_extension": ".py",
   "mimetype": "text/x-python",
   "name": "python",
   "nbconvert_exporter": "python",
   "pygments_lexer": "ipython3",
   "version": "3.10.17"
  }
 },
 "nbformat": 4,
 "nbformat_minor": 5
}
