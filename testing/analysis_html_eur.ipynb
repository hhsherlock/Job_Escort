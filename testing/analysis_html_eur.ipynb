{
 "cells": [
  {
   "cell_type": "code",
   "execution_count": 3,
   "id": "5e5da3e7",
   "metadata": {},
   "outputs": [],
   "source": [
    "#!/usr/bin/env python3\n",
    "# -*- coding: utf-8 -*-\n",
    "\"\"\"\n",
    "    Created on Tue Jul 29 2025\n",
    "    \n",
    "    @author: Yaning\n",
    "\"\"\"\n",
    "\n",
    "from bs4 import BeautifulSoup\n",
    "import csv\n",
    "from datetime import date\n",
    "import pandas as pd"
   ]
  },
  {
   "cell_type": "code",
   "execution_count": 7,
   "id": "2b0b5e8b",
   "metadata": {},
   "outputs": [
    {
     "ename": "UnicodeDecodeError",
     "evalue": "'utf-8' codec can't decode byte 0x80 in position 623: invalid start byte",
     "output_type": "error",
     "traceback": [
      "\u001b[0;31m---------------------------------------------------------------------------\u001b[0m",
      "\u001b[0;31mUnicodeDecodeError\u001b[0m                        Traceback (most recent call last)",
      "Cell \u001b[0;32mIn[7], line 1\u001b[0m\n\u001b[0;32m----> 1\u001b[0m test \u001b[38;5;241m=\u001b[39m \u001b[43mpd\u001b[49m\u001b[38;5;241;43m.\u001b[39;49m\u001b[43mread_csv\u001b[49m\u001b[43m(\u001b[49m\u001b[38;5;124;43m\"\u001b[39;49m\u001b[38;5;124;43m/home/yaning/Documents/Job_Escort/testing/euraxess_2025_08_04_new.csv\u001b[39;49m\u001b[38;5;124;43m\"\u001b[39;49m\u001b[43m)\u001b[49m\n",
      "File \u001b[0;32m~/.conda/envs/spike/lib/python3.10/site-packages/pandas/io/parsers/readers.py:1026\u001b[0m, in \u001b[0;36mread_csv\u001b[0;34m(filepath_or_buffer, sep, delimiter, header, names, index_col, usecols, dtype, engine, converters, true_values, false_values, skipinitialspace, skiprows, skipfooter, nrows, na_values, keep_default_na, na_filter, verbose, skip_blank_lines, parse_dates, infer_datetime_format, keep_date_col, date_parser, date_format, dayfirst, cache_dates, iterator, chunksize, compression, thousands, decimal, lineterminator, quotechar, quoting, doublequote, escapechar, comment, encoding, encoding_errors, dialect, on_bad_lines, delim_whitespace, low_memory, memory_map, float_precision, storage_options, dtype_backend)\u001b[0m\n\u001b[1;32m   1013\u001b[0m kwds_defaults \u001b[38;5;241m=\u001b[39m _refine_defaults_read(\n\u001b[1;32m   1014\u001b[0m     dialect,\n\u001b[1;32m   1015\u001b[0m     delimiter,\n\u001b[0;32m   (...)\u001b[0m\n\u001b[1;32m   1022\u001b[0m     dtype_backend\u001b[38;5;241m=\u001b[39mdtype_backend,\n\u001b[1;32m   1023\u001b[0m )\n\u001b[1;32m   1024\u001b[0m kwds\u001b[38;5;241m.\u001b[39mupdate(kwds_defaults)\n\u001b[0;32m-> 1026\u001b[0m \u001b[38;5;28;01mreturn\u001b[39;00m \u001b[43m_read\u001b[49m\u001b[43m(\u001b[49m\u001b[43mfilepath_or_buffer\u001b[49m\u001b[43m,\u001b[49m\u001b[43m \u001b[49m\u001b[43mkwds\u001b[49m\u001b[43m)\u001b[49m\n",
      "File \u001b[0;32m~/.conda/envs/spike/lib/python3.10/site-packages/pandas/io/parsers/readers.py:620\u001b[0m, in \u001b[0;36m_read\u001b[0;34m(filepath_or_buffer, kwds)\u001b[0m\n\u001b[1;32m    617\u001b[0m _validate_names(kwds\u001b[38;5;241m.\u001b[39mget(\u001b[38;5;124m\"\u001b[39m\u001b[38;5;124mnames\u001b[39m\u001b[38;5;124m\"\u001b[39m, \u001b[38;5;28;01mNone\u001b[39;00m))\n\u001b[1;32m    619\u001b[0m \u001b[38;5;66;03m# Create the parser.\u001b[39;00m\n\u001b[0;32m--> 620\u001b[0m parser \u001b[38;5;241m=\u001b[39m \u001b[43mTextFileReader\u001b[49m\u001b[43m(\u001b[49m\u001b[43mfilepath_or_buffer\u001b[49m\u001b[43m,\u001b[49m\u001b[43m \u001b[49m\u001b[38;5;241;43m*\u001b[39;49m\u001b[38;5;241;43m*\u001b[39;49m\u001b[43mkwds\u001b[49m\u001b[43m)\u001b[49m\n\u001b[1;32m    622\u001b[0m \u001b[38;5;28;01mif\u001b[39;00m chunksize \u001b[38;5;129;01mor\u001b[39;00m iterator:\n\u001b[1;32m    623\u001b[0m     \u001b[38;5;28;01mreturn\u001b[39;00m parser\n",
      "File \u001b[0;32m~/.conda/envs/spike/lib/python3.10/site-packages/pandas/io/parsers/readers.py:1620\u001b[0m, in \u001b[0;36mTextFileReader.__init__\u001b[0;34m(self, f, engine, **kwds)\u001b[0m\n\u001b[1;32m   1617\u001b[0m     \u001b[38;5;28mself\u001b[39m\u001b[38;5;241m.\u001b[39moptions[\u001b[38;5;124m\"\u001b[39m\u001b[38;5;124mhas_index_names\u001b[39m\u001b[38;5;124m\"\u001b[39m] \u001b[38;5;241m=\u001b[39m kwds[\u001b[38;5;124m\"\u001b[39m\u001b[38;5;124mhas_index_names\u001b[39m\u001b[38;5;124m\"\u001b[39m]\n\u001b[1;32m   1619\u001b[0m \u001b[38;5;28mself\u001b[39m\u001b[38;5;241m.\u001b[39mhandles: IOHandles \u001b[38;5;241m|\u001b[39m \u001b[38;5;28;01mNone\u001b[39;00m \u001b[38;5;241m=\u001b[39m \u001b[38;5;28;01mNone\u001b[39;00m\n\u001b[0;32m-> 1620\u001b[0m \u001b[38;5;28mself\u001b[39m\u001b[38;5;241m.\u001b[39m_engine \u001b[38;5;241m=\u001b[39m \u001b[38;5;28;43mself\u001b[39;49m\u001b[38;5;241;43m.\u001b[39;49m\u001b[43m_make_engine\u001b[49m\u001b[43m(\u001b[49m\u001b[43mf\u001b[49m\u001b[43m,\u001b[49m\u001b[43m \u001b[49m\u001b[38;5;28;43mself\u001b[39;49m\u001b[38;5;241;43m.\u001b[39;49m\u001b[43mengine\u001b[49m\u001b[43m)\u001b[49m\n",
      "File \u001b[0;32m~/.conda/envs/spike/lib/python3.10/site-packages/pandas/io/parsers/readers.py:1898\u001b[0m, in \u001b[0;36mTextFileReader._make_engine\u001b[0;34m(self, f, engine)\u001b[0m\n\u001b[1;32m   1895\u001b[0m     \u001b[38;5;28;01mraise\u001b[39;00m \u001b[38;5;167;01mValueError\u001b[39;00m(msg)\n\u001b[1;32m   1897\u001b[0m \u001b[38;5;28;01mtry\u001b[39;00m:\n\u001b[0;32m-> 1898\u001b[0m     \u001b[38;5;28;01mreturn\u001b[39;00m \u001b[43mmapping\u001b[49m\u001b[43m[\u001b[49m\u001b[43mengine\u001b[49m\u001b[43m]\u001b[49m\u001b[43m(\u001b[49m\u001b[43mf\u001b[49m\u001b[43m,\u001b[49m\u001b[43m \u001b[49m\u001b[38;5;241;43m*\u001b[39;49m\u001b[38;5;241;43m*\u001b[39;49m\u001b[38;5;28;43mself\u001b[39;49m\u001b[38;5;241;43m.\u001b[39;49m\u001b[43moptions\u001b[49m\u001b[43m)\u001b[49m\n\u001b[1;32m   1899\u001b[0m \u001b[38;5;28;01mexcept\u001b[39;00m \u001b[38;5;167;01mException\u001b[39;00m:\n\u001b[1;32m   1900\u001b[0m     \u001b[38;5;28;01mif\u001b[39;00m \u001b[38;5;28mself\u001b[39m\u001b[38;5;241m.\u001b[39mhandles \u001b[38;5;129;01mis\u001b[39;00m \u001b[38;5;129;01mnot\u001b[39;00m \u001b[38;5;28;01mNone\u001b[39;00m:\n",
      "File \u001b[0;32m~/.conda/envs/spike/lib/python3.10/site-packages/pandas/io/parsers/c_parser_wrapper.py:93\u001b[0m, in \u001b[0;36mCParserWrapper.__init__\u001b[0;34m(self, src, **kwds)\u001b[0m\n\u001b[1;32m     90\u001b[0m \u001b[38;5;28;01mif\u001b[39;00m kwds[\u001b[38;5;124m\"\u001b[39m\u001b[38;5;124mdtype_backend\u001b[39m\u001b[38;5;124m\"\u001b[39m] \u001b[38;5;241m==\u001b[39m \u001b[38;5;124m\"\u001b[39m\u001b[38;5;124mpyarrow\u001b[39m\u001b[38;5;124m\"\u001b[39m:\n\u001b[1;32m     91\u001b[0m     \u001b[38;5;66;03m# Fail here loudly instead of in cython after reading\u001b[39;00m\n\u001b[1;32m     92\u001b[0m     import_optional_dependency(\u001b[38;5;124m\"\u001b[39m\u001b[38;5;124mpyarrow\u001b[39m\u001b[38;5;124m\"\u001b[39m)\n\u001b[0;32m---> 93\u001b[0m \u001b[38;5;28mself\u001b[39m\u001b[38;5;241m.\u001b[39m_reader \u001b[38;5;241m=\u001b[39m \u001b[43mparsers\u001b[49m\u001b[38;5;241;43m.\u001b[39;49m\u001b[43mTextReader\u001b[49m\u001b[43m(\u001b[49m\u001b[43msrc\u001b[49m\u001b[43m,\u001b[49m\u001b[43m \u001b[49m\u001b[38;5;241;43m*\u001b[39;49m\u001b[38;5;241;43m*\u001b[39;49m\u001b[43mkwds\u001b[49m\u001b[43m)\u001b[49m\n\u001b[1;32m     95\u001b[0m \u001b[38;5;28mself\u001b[39m\u001b[38;5;241m.\u001b[39munnamed_cols \u001b[38;5;241m=\u001b[39m \u001b[38;5;28mself\u001b[39m\u001b[38;5;241m.\u001b[39m_reader\u001b[38;5;241m.\u001b[39munnamed_cols\n\u001b[1;32m     97\u001b[0m \u001b[38;5;66;03m# error: Cannot determine type of 'names'\u001b[39;00m\n",
      "File \u001b[0;32mpandas/_libs/parsers.pyx:574\u001b[0m, in \u001b[0;36mpandas._libs.parsers.TextReader.__cinit__\u001b[0;34m()\u001b[0m\n",
      "File \u001b[0;32mpandas/_libs/parsers.pyx:663\u001b[0m, in \u001b[0;36mpandas._libs.parsers.TextReader._get_header\u001b[0;34m()\u001b[0m\n",
      "File \u001b[0;32mpandas/_libs/parsers.pyx:874\u001b[0m, in \u001b[0;36mpandas._libs.parsers.TextReader._tokenize_rows\u001b[0;34m()\u001b[0m\n",
      "File \u001b[0;32mpandas/_libs/parsers.pyx:891\u001b[0m, in \u001b[0;36mpandas._libs.parsers.TextReader._check_tokenize_status\u001b[0;34m()\u001b[0m\n",
      "File \u001b[0;32mpandas/_libs/parsers.pyx:2053\u001b[0m, in \u001b[0;36mpandas._libs.parsers.raise_parser_error\u001b[0;34m()\u001b[0m\n",
      "\u001b[0;31mUnicodeDecodeError\u001b[0m: 'utf-8' codec can't decode byte 0x80 in position 623: invalid start byte"
     ]
    }
   ],
   "source": [
    "test = pd.read_csv(\"/home/yaning/Documents/Job_Escort/testing/euraxess_2025_08_04_new.csv\")"
   ]
  },
  {
   "cell_type": "code",
   "execution_count": 58,
   "id": "4b0f08bb",
   "metadata": {},
   "outputs": [],
   "source": [
    "today = date.today()"
   ]
  },
  {
   "cell_type": "code",
   "execution_count": null,
   "id": "9e3287dc",
   "metadata": {},
   "outputs": [
    {
     "data": {
      "text/plain": [
       "'2025-07-29'"
      ]
     },
     "execution_count": 60,
     "metadata": {},
     "output_type": "execute_result"
    }
   ],
   "source": [
    "today.strftime(\"%Y_%m_%d\")"
   ]
  },
  {
   "cell_type": "code",
   "execution_count": 64,
   "id": "7edb563d",
   "metadata": {},
   "outputs": [
    {
     "name": "stdout",
     "output_type": "stream",
     "text": [
      "htmls/euraxess_Closed-Loop_Motor_Control_page1.html\n"
     ]
    }
   ],
   "source": [
    "# Load the HTML file\n",
    "with open(\"htmls/euraxess_Closed-Loop_Motor_Control_page1.html\", \"r\", encoding=\"utf-8\") as file:\n",
    "    html_content = file.read()\n",
    "    print(file.name)\n",
    "\n",
    "# Parse with BeautifulSoup\n",
    "soup = BeautifulSoup(html_content, \"lxml\")"
   ]
  },
  {
   "cell_type": "code",
   "execution_count": 61,
   "id": "f45bffd6",
   "metadata": {},
   "outputs": [],
   "source": [
    "ul = soup.find(\"ul\", class_=\"unformatted\")"
   ]
  },
  {
   "cell_type": "code",
   "execution_count": 63,
   "id": "014eeee1",
   "metadata": {},
   "outputs": [
    {
     "data": {
      "text/plain": [
       "True"
      ]
     },
     "execution_count": 63,
     "metadata": {},
     "output_type": "execute_result"
    }
   ],
   "source": [
    "ul == None"
   ]
  },
  {
   "cell_type": "code",
   "execution_count": 33,
   "id": "985e71d7",
   "metadata": {},
   "outputs": [],
   "source": [
    "job_list = ul.find_all(\"li\", recursive=False)"
   ]
  },
  {
   "cell_type": "code",
   "execution_count": 34,
   "id": "bafcc85f",
   "metadata": {},
   "outputs": [],
   "source": [
    "test = job_list[0]"
   ]
  },
  {
   "cell_type": "code",
   "execution_count": 43,
   "id": "3e2e1815",
   "metadata": {},
   "outputs": [
    {
     "data": {
      "text/plain": [
       "<div class=\"ecl-content-block__description\"><p>LISN, parc de GPU, labIA, Jean-Zay Context: As part of the ANR HUMAAINE: HUMAN-MACHINE AFFECTIVE INTERACTION &amp; ETHICS chair at LISN-CNRS, we have been developing research on oral interaction with social robots. 5 theses have already been defended on emotion detection systems (Feng, 2025; Deschamps...</p></div>"
      ]
     },
     "execution_count": 43,
     "metadata": {},
     "output_type": "execute_result"
    }
   ],
   "source": [
    "test.find(\"div\", class_=\"ecl-content-block__description\")"
   ]
  },
  {
   "cell_type": "code",
   "execution_count": 53,
   "id": "57145a0e",
   "metadata": {},
   "outputs": [
    {
     "name": "stdout",
     "output_type": "stream",
     "text": [
      "AI_for_Neural_Signal_Processing\n"
     ]
    }
   ],
   "source": [
    "text = \"euraxess_AI_for_Neural_Signal_Processing_page1\"\n",
    "begin = text.find('_')\n",
    "end = text.rfind('_')\n",
    "result = text[begin+1:end]\n",
    "print(result)"
   ]
  },
  {
   "cell_type": "code",
   "execution_count": null,
   "id": "1e297342",
   "metadata": {},
   "outputs": [],
   "source": [
    "jobs = []\n",
    "for job in job_list:\n",
    "    location = job.find(\"span\", class_=\"ecl-label ecl-label--highlight\").get_text(strip=True)\n",
    "    temp = job.find_all(\"li\", class_=\"ecl-content-block__primary-meta-item\")\n",
    "    institute = temp[0].get_text(strip=True)\n",
    "    posted_on = temp[1].get_text(strip=True).replace(\"Posted on: \", \"\")\n",
    "    ddl = job.find(\"time\").get_text(strip=True)\n",
    "    link = job.find(\"h3\", class_=\"ecl-content-block__title\").find(\"a\").get(\"href\")\n",
    "    title = job.find(\"h3\", class_=\"ecl-content-block__title\").get_text(strip=True)\n",
    "    details = job.find(\"div\", class_=\"ecl-content-block__description\").get_text(strip=True)\n",
    "\n",
    "    dict = {\n",
    "        \"title\": title,\n",
    "        \"location\": location,\n",
    "        \"posted_on\": posted_on,\n",
    "        \"deadline\": ddl,\n",
    "        \"details\": details,\n",
    "        \"institute\": institute,\n",
    "        \"link\": link\n",
    "        # \"keyword\": \n",
    "    }\n",
    "\n",
    "    jobs.append(dict)\n",
    "    "
   ]
  },
  {
   "cell_type": "code",
   "execution_count": 52,
   "id": "0db3813b",
   "metadata": {},
   "outputs": [
    {
     "data": {
      "text/plain": [
       "[{'title': 'Emotional Assessment and Adaptation of Voice-Based LLMs in Assistive Robotics for Elderly Care and Ethical Challenges (M/F)',\n",
       "  'location': 'France',\n",
       "  'posted_on': '25 July 2025',\n",
       "  'deadline': '14 Aug 2025 - 23:59 (UTC)',\n",
       "  'details': 'LISN, parc de GPU, labIA, Jean-Zay Context: As part of the ANR HUMAAINE: HUMAN-MACHINE AFFECTIVE INTERACTION & ETHICS chair at LISN-CNRS, we have been developing research on oral interaction with social robots. 5 theses have already been defended on emotion detection systems (Feng, 2025; Deschamps...',\n",
       "  'institute': 'CNRS - National Center for Scientific Research',\n",
       "  'link': '/jobs/364211'},\n",
       " {'title': 'Researcher in experimentation environment FPGA for quantified neural networks',\n",
       "  'location': 'France',\n",
       "  'posted_on': '16 July 2025',\n",
       "  'deadline': '17 Aug 2025 - 20:00 (Europe/Paris)',\n",
       "  'details': 'Current research in neural network efficiency include heterogeneous quantization, custom number representation, sparse data storage, etc. In order to demonstrate efficiency improvements of hardware implementation of neural networks, fully operational FPGA prototyping is necessary toexhibit...',\n",
       "  'institute': 'Grenoble INP - Institute of Engineering',\n",
       "  'link': '/jobs/361700'},\n",
       " {'title': 'PhD Position Low-Power Digital IC Design for ML-based Signal Processing',\n",
       "  'location': 'Netherlands',\n",
       "  'posted_on': '8 July 2025',\n",
       "  'deadline': '10 Aug 2025 - 21:59 (UTC)',\n",
       "  'details': 'Ready to re-imagine how tiny pieces of silicon can run powerful machine-learning algorithms within a few milliwatts?Ready to re-imagine how tiny pieces of silicon can run powerful machine-learning algorithms within a few milliwatts? Join the Lab of Efficient Machine Intelligence led by Dr. Chang Gao...',\n",
       "  'institute': 'Delft University of Technology via AcademicTransfer',\n",
       "  'link': '/jobs/359054'},\n",
       " {'title': 'One or more PhD stipends in Classification and Identification of Underwater Anomalies',\n",
       "  'location': 'Denmark',\n",
       "  'posted_on': '3 July 2025',\n",
       "  'deadline': '29 Jul 2025 - 21:59 (UTC)',\n",
       "  'details': 'At the Faculty of Engineering and Science, AAU Energy offers a PhD stipend position within the general study program. The position is offered in relation to the research group Underwater Technology, and the PhD Students will be positioned in the Esbjerg Energy section.The positions are part of the...',\n",
       "  'institute': 'Aalborg Universitet',\n",
       "  'link': '/jobs/357895'},\n",
       " {'title': 'PhD on Neuromorphic-photonics-assisted front-end for edge computing – SpikeHERO project',\n",
       "  'location': 'Netherlands',\n",
       "  'posted_on': '28 June 2025',\n",
       "  'deadline': '10 Aug 2025 - 21:59 (UTC)',\n",
       "  'details': 'The Photonic Neural Network Lab, together with the High Capacity Optical Transmission Lab’s in the Electro-Optics Communication (ECO) group at Eindhoven University of Technology (TU/e) are recruiting a PhD candidate to research novel neuromorphic-photonics-assisted front-ends for edge computing.The...',\n",
       "  'institute': 'AcademicTransfer',\n",
       "  'link': '/jobs/356496'},\n",
       " {'title': 'Project Worker / Research Assistant, Building AI Models for Adaptive Gas Sensing',\n",
       "  'location': 'Finland',\n",
       "  'posted_on': '27 June 2025',\n",
       "  'deadline': '1 Aug 2025 - 00:00 (UTC)',\n",
       "  'details': 'Aalto University is where science and art meet technology and business. We shape a sustainable future by making research breakthroughs in and across our disciplines, sparking the game changers of tomorrow and creating novel solutions to major global challenges. Our community is made up of 120...',\n",
       "  'institute': 'Aalto University',\n",
       "  'link': '/jobs/356214'},\n",
       " {'title': 'PhD in Efficient hardware implementations of networks with intra-layer heterogeneous quantization - TIMA',\n",
       "  'location': 'France',\n",
       "  'posted_on': '26 June 2025',\n",
       "  'deadline': '18 Aug 2025 - 20:00 (Europe/Paris)',\n",
       "  'details': 'Usual digital neural networks consist of large amounts of matrix-vector of matrix-matrix multiplication operations. Thus, the design of dedicated hardware acceleration circuits for digital neural networks mostly focuses on accelerating these matrix operations. The involved matrices are often...',\n",
       "  'institute': 'Grenoble INP - Institute of Engineering',\n",
       "  'link': '/jobs/355873'},\n",
       " {'title': 'Project Worker / Research Assistant, Building AI Models for Adaptive Gas Sensing',\n",
       "  'location': 'Finland',\n",
       "  'posted_on': '26 June 2025',\n",
       "  'deadline': '1 Aug 2025 - 00:00 (UTC)',\n",
       "  'details': 'Aalto University is where science and art meet technology and business. We shape a sustainable future by making research breakthroughs in and across our disciplines, sparking the game changers of tomorrow and creating novel solutions to major global challenges. Our community is made up of 120...',\n",
       "  'institute': 'Times Higher Education',\n",
       "  'link': '/jobs/355605'},\n",
       " {'title': 'Postdoctoral fellow in Computer Vision and Machine Learning',\n",
       "  'location': 'Sweden',\n",
       "  'posted_on': '25 June 2025',\n",
       "  'deadline': '17 Aug 2025 - 22:00 (UTC)',\n",
       "  'details': 'This multidisciplinary position is part of a WASP NEST (Novelty, Excellence, Synergy, Teams) project focused on advancing generative models and perceptual understanding in computer vision. The position is embedded in a vibrant research environment that includes several PhD students and postdoctoral...',\n",
       "  'institute': 'Talentech',\n",
       "  'link': '/jobs/355045'},\n",
       " {'title': 'Postdoctoral fellowship - Artificial Intelligence and Mobility: Gait Mode Classification via Deep  Learning to Enhance Robotic Assistance and Inclusion of People with Disabilities',\n",
       "  'location': 'France',\n",
       "  'posted_on': '19 June 2025',\n",
       "  'deadline': '15 Sep 2025 - 18:00 (Europe/Paris)',\n",
       "  'details': 'We invite applications for a 24-month postdoctoral research position within the framework of the ERASME program, which supports socially engaged science. The project focuses on improving mobility, autonomy, and rehabilitation outcomes for individuals with motor impairments, particularly post-stroke...',\n",
       "  'institute': 'Université Paris Est Créteil',\n",
       "  'link': '/jobs/354007'}]"
      ]
     },
     "execution_count": 52,
     "metadata": {},
     "output_type": "execute_result"
    }
   ],
   "source": [
    "jobs"
   ]
  },
  {
   "cell_type": "code",
   "execution_count": 49,
   "id": "d00f7a4c",
   "metadata": {},
   "outputs": [
    {
     "name": "stdout",
     "output_type": "stream",
     "text": [
      "Saved 10 jobs to jobs.csv\n"
     ]
    }
   ],
   "source": [
    "# Choose CSV file name\n",
    "csv_filename = \"jobs.csv\"\n",
    "\n",
    "# Open the CSV file for writing\n",
    "with open(csv_filename, mode=\"w\", encoding=\"utf-8\", newline=\"\") as csvfile:\n",
    "    # Use fieldnames from the first job (keys of the dictionary)\n",
    "    fieldnames = jobs[0].keys()\n",
    "\n",
    "    writer = csv.DictWriter(csvfile, fieldnames=fieldnames)\n",
    "\n",
    "    writer.writeheader()  # Write column headers\n",
    "    writer.writerows(jobs)  # Write each job as a row\n",
    "\n",
    "print(f\"Saved {len(jobs)} jobs to {csv_filename}\")"
   ]
  }
 ],
 "metadata": {
  "kernelspec": {
   "display_name": "Python 3 (ipykernel)",
   "language": "python",
   "name": "python3"
  },
  "language_info": {
   "codemirror_mode": {
    "name": "ipython",
    "version": 3
   },
   "file_extension": ".py",
   "mimetype": "text/x-python",
   "name": "python",
   "nbconvert_exporter": "python",
   "pygments_lexer": "ipython3",
   "version": "3.10.17"
  }
 },
 "nbformat": 4,
 "nbformat_minor": 5
}
