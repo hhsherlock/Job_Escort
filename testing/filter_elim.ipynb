{
 "cells": [
  {
   "cell_type": "code",
   "execution_count": 2,
   "id": "a01a7a06",
   "metadata": {},
   "outputs": [],
   "source": [
    "#!/usr/bin/env python3\n",
    "# -*- coding: utf-8 -*-\n",
    "\"\"\"\n",
    "    Created on Tue Jul 29 2025\n",
    "    \n",
    "    @author: Yaning\n",
    "\"\"\"\n",
    "\n",
    "import csv\n",
    "import pandas as pd"
   ]
  },
  {
   "cell_type": "code",
   "execution_count": 6,
   "id": "58b06df0",
   "metadata": {},
   "outputs": [],
   "source": [
    "elim_df = pd.read_csv('elim_2025_08_01.csv')"
   ]
  },
  {
   "cell_type": "code",
   "execution_count": 7,
   "id": "8de1a68b",
   "metadata": {},
   "outputs": [
    {
     "data": {
      "text/plain": [
       "(35, 3)"
      ]
     },
     "execution_count": 7,
     "metadata": {},
     "output_type": "execute_result"
    }
   ],
   "source": [
    "elim_df.shape"
   ]
  },
  {
   "cell_type": "code",
   "execution_count": 8,
   "id": "ae01ab91",
   "metadata": {},
   "outputs": [],
   "source": [
    "new_df = pd.read_csv('euraxess_2025_08_01.csv')"
   ]
  },
  {
   "cell_type": "code",
   "execution_count": 9,
   "id": "aa88b859",
   "metadata": {},
   "outputs": [
    {
     "data": {
      "text/plain": [
       "(29, 8)"
      ]
     },
     "execution_count": 9,
     "metadata": {},
     "output_type": "execute_result"
    }
   ],
   "source": [
    "new_df.shape"
   ]
  },
  {
   "cell_type": "code",
   "execution_count": 20,
   "id": "3b97f008",
   "metadata": {},
   "outputs": [],
   "source": [
    "# combine the posted_time and the link to make sure they are the same\n",
    "elim_df['comb'] = elim_df['posted_on'].astype(str) + '|' + elim_df['link'].astype(str)\n",
    "new_df['comb'] = new_df['posted_on'].astype(str) + '|' + new_df['link'].astype(str)"
   ]
  },
  {
   "cell_type": "code",
   "execution_count": 21,
   "id": "aaf4375a",
   "metadata": {},
   "outputs": [],
   "source": [
    "new_df['exist'] = new_df['comb'].isin(elim_df['comb'])"
   ]
  },
  {
   "cell_type": "code",
   "execution_count": 22,
   "id": "1fdf42d6",
   "metadata": {},
   "outputs": [
    {
     "data": {
      "text/html": [
       "<div>\n",
       "<style scoped>\n",
       "    .dataframe tbody tr th:only-of-type {\n",
       "        vertical-align: middle;\n",
       "    }\n",
       "\n",
       "    .dataframe tbody tr th {\n",
       "        vertical-align: top;\n",
       "    }\n",
       "\n",
       "    .dataframe thead th {\n",
       "        text-align: right;\n",
       "    }\n",
       "</style>\n",
       "<table border=\"1\" class=\"dataframe\">\n",
       "  <thead>\n",
       "    <tr style=\"text-align: right;\">\n",
       "      <th></th>\n",
       "      <th>title</th>\n",
       "      <th>location</th>\n",
       "      <th>posted_on</th>\n",
       "      <th>deadline</th>\n",
       "      <th>details</th>\n",
       "      <th>institute</th>\n",
       "      <th>link</th>\n",
       "      <th>keyword</th>\n",
       "      <th>comb</th>\n",
       "      <th>exist</th>\n",
       "    </tr>\n",
       "  </thead>\n",
       "  <tbody>\n",
       "    <tr>\n",
       "      <th>5</th>\n",
       "      <td>PhD Position in Auditory Cognitive and Computa...</td>\n",
       "      <td>Netherlands</td>\n",
       "      <td>31 July 2025</td>\n",
       "      <td>17 Aug 2025 - 21:59 (UTC)</td>\n",
       "      <td>Join a cutting-edge project investigating how ...</td>\n",
       "      <td>Maastricht University via AcademicTransfer</td>\n",
       "      <td>/jobs/365611</td>\n",
       "      <td>Neural_Decoding</td>\n",
       "      <td>31 July 2025|/jobs/365611</td>\n",
       "      <td>False</td>\n",
       "    </tr>\n",
       "  </tbody>\n",
       "</table>\n",
       "</div>"
      ],
      "text/plain": [
       "                                               title     location  \\\n",
       "5  PhD Position in Auditory Cognitive and Computa...  Netherlands   \n",
       "\n",
       "      posted_on                   deadline  \\\n",
       "5  31 July 2025  17 Aug 2025 - 21:59 (UTC)   \n",
       "\n",
       "                                             details  \\\n",
       "5  Join a cutting-edge project investigating how ...   \n",
       "\n",
       "                                    institute          link          keyword  \\\n",
       "5  Maastricht University via AcademicTransfer  /jobs/365611  Neural_Decoding   \n",
       "\n",
       "                        comb  exist  \n",
       "5  31 July 2025|/jobs/365611  False  "
      ]
     },
     "execution_count": 22,
     "metadata": {},
     "output_type": "execute_result"
    }
   ],
   "source": [
    "new_df[~new_df['exist']]"
   ]
  },
  {
   "cell_type": "code",
   "execution_count": 23,
   "id": "03830083",
   "metadata": {},
   "outputs": [],
   "source": [
    "elim_df['exist'] = elim_df['comb'].isin(new_df['comb'])"
   ]
  },
  {
   "cell_type": "code",
   "execution_count": 25,
   "id": "84366dd6",
   "metadata": {},
   "outputs": [
    {
     "data": {
      "text/html": [
       "<div>\n",
       "<style scoped>\n",
       "    .dataframe tbody tr th:only-of-type {\n",
       "        vertical-align: middle;\n",
       "    }\n",
       "\n",
       "    .dataframe tbody tr th {\n",
       "        vertical-align: top;\n",
       "    }\n",
       "\n",
       "    .dataframe thead th {\n",
       "        text-align: right;\n",
       "    }\n",
       "</style>\n",
       "<table border=\"1\" class=\"dataframe\">\n",
       "  <thead>\n",
       "    <tr style=\"text-align: right;\">\n",
       "      <th></th>\n",
       "      <th>Unnamed: 0</th>\n",
       "      <th>posted_on</th>\n",
       "      <th>link</th>\n",
       "      <th>comb</th>\n",
       "      <th>exist</th>\n",
       "    </tr>\n",
       "  </thead>\n",
       "  <tbody>\n",
       "    <tr>\n",
       "      <th>6</th>\n",
       "      <td>6</td>\n",
       "      <td>15 March 2025</td>\n",
       "      <td>/jobs/325914</td>\n",
       "      <td>15 March 2025|/jobs/325914</td>\n",
       "      <td>False</td>\n",
       "    </tr>\n",
       "    <tr>\n",
       "      <th>11</th>\n",
       "      <td>11</td>\n",
       "      <td>12 June 2025</td>\n",
       "      <td>/jobs/351937</td>\n",
       "      <td>12 June 2025|/jobs/351937</td>\n",
       "      <td>False</td>\n",
       "    </tr>\n",
       "    <tr>\n",
       "      <th>20</th>\n",
       "      <td>20</td>\n",
       "      <td>6 May 2025</td>\n",
       "      <td>/jobs/341261</td>\n",
       "      <td>6 May 2025|/jobs/341261</td>\n",
       "      <td>False</td>\n",
       "    </tr>\n",
       "    <tr>\n",
       "      <th>24</th>\n",
       "      <td>24</td>\n",
       "      <td>22 March 2025</td>\n",
       "      <td>/jobs/328468</td>\n",
       "      <td>22 March 2025|/jobs/328468</td>\n",
       "      <td>False</td>\n",
       "    </tr>\n",
       "    <tr>\n",
       "      <th>28</th>\n",
       "      <td>28</td>\n",
       "      <td>3 July 2025</td>\n",
       "      <td>/jobs/357895</td>\n",
       "      <td>3 July 2025|/jobs/357895</td>\n",
       "      <td>False</td>\n",
       "    </tr>\n",
       "    <tr>\n",
       "      <th>30</th>\n",
       "      <td>30</td>\n",
       "      <td>27 June 2025</td>\n",
       "      <td>/jobs/356214</td>\n",
       "      <td>27 June 2025|/jobs/356214</td>\n",
       "      <td>False</td>\n",
       "    </tr>\n",
       "    <tr>\n",
       "      <th>32</th>\n",
       "      <td>32</td>\n",
       "      <td>26 June 2025</td>\n",
       "      <td>/jobs/355605</td>\n",
       "      <td>26 June 2025|/jobs/355605</td>\n",
       "      <td>False</td>\n",
       "    </tr>\n",
       "  </tbody>\n",
       "</table>\n",
       "</div>"
      ],
      "text/plain": [
       "    Unnamed: 0      posted_on          link                        comb  exist\n",
       "6            6  15 March 2025  /jobs/325914  15 March 2025|/jobs/325914  False\n",
       "11          11   12 June 2025  /jobs/351937   12 June 2025|/jobs/351937  False\n",
       "20          20     6 May 2025  /jobs/341261     6 May 2025|/jobs/341261  False\n",
       "24          24  22 March 2025  /jobs/328468  22 March 2025|/jobs/328468  False\n",
       "28          28    3 July 2025  /jobs/357895    3 July 2025|/jobs/357895  False\n",
       "30          30   27 June 2025  /jobs/356214   27 June 2025|/jobs/356214  False\n",
       "32          32   26 June 2025  /jobs/355605   26 June 2025|/jobs/355605  False"
      ]
     },
     "execution_count": 25,
     "metadata": {},
     "output_type": "execute_result"
    }
   ],
   "source": [
    "elim_df[~elim_df['exist']]"
   ]
  }
 ],
 "metadata": {
  "kernelspec": {
   "display_name": "Python 3 (ipykernel)",
   "language": "python",
   "name": "python3"
  }
 },
 "nbformat": 4,
 "nbformat_minor": 5
}
